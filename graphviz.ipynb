{
 "cells": [
  {
   "cell_type": "code",
   "execution_count": 1,
   "metadata": {},
   "outputs": [],
   "source": [
    "import networkx as nx\n",
    "import numpy as np\n",
    "import scipy.stats as stats\n",
    "import matplotlib.pyplot as plt\n",
    "import os\n",
    "import seaborn as sns\n",
    "import pandas\n",
    "\n",
    "%matplotlib inline"
   ]
  },
  {
   "cell_type": "markdown",
   "metadata": {},
   "source": [
    "# Cho"
   ]
  },
  {
   "cell_type": "code",
   "execution_count": 2,
   "metadata": {},
   "outputs": [],
   "source": [
    "datadir_cho = '../data/Cho_Braak_w_hipp_labels_gk/'\n",
    "fnames = os.listdir(datadir_cho)"
   ]
  },
  {
   "cell_type": "code",
   "execution_count": 3,
   "metadata": {},
   "outputs": [],
   "source": [
    "graphs = dict()\n",
    "for idx, fname in enumerate(fnames):\n",
    "    graphs[fname] = nx.read_gpickle(os.path.join(datadir_cho,fname))"
   ]
  },
  {
   "cell_type": "code",
   "execution_count": 4,
   "metadata": {},
   "outputs": [],
   "source": [
    "adjs = np.zeros((2, 7, len(fnames)))\n",
    "for idx, graph in enumerate(graphs.values()):\n",
    "    tmp = nx.adj_matrix(graph).todense()[-2:, :]\n",
    "    adjs[:, :, idx] = tmp"
   ]
  },
  {
   "cell_type": "code",
   "execution_count": 6,
   "metadata": {},
   "outputs": [
    {
     "data": {
      "image/png": "[encoded data removed]",
      "text/plain": [
       "<matplotlib.figure.Figure at 0x11085ea50>"
      ]
     },
     "metadata": {},
     "output_type": "display_data"
    }
   ],
   "source": [
    "average_cho = np.mean(adjs, axis=2)\n",
    "plt.imshow(np.log(average_cho+1))\n",
    "plt.yticks([0, 1], [6,7])\n",
    "plt.ylabel('ROI')\n",
    "plt.show()"
   ]
  },
  {
   "cell_type": "code",
   "execution_count": 8,
   "metadata": {},
   "outputs": [
    {
     "data": {
      "text/plain": [
       "Ttest_indResult(statistic=-9.557951669645778, pvalue=2.1376527152142656e-18)"
      ]
     },
     "execution_count": 8,
     "metadata": {},
     "output_type": "execute_result"
    }
   ],
   "source": [
    "for_test = adjs[:,0,:]\n",
    "stats.ttest_ind(for_test[0,:],for_test[1,:])"
   ]
  },
  {
   "cell_type": "code",
   "execution_count": 9,
   "metadata": {},
   "outputs": [],
   "source": [
    "jnk = pandas.DataFrame(index=range(for_test.shape[1]*2),columns = ['connections to ERC','region'])\n",
    "jnk.loc[jnk.index[:for_test.shape[1]],'connections to ERC'] = for_test[0,:]\n",
    "jnk.loc[jnk.index[for_test.shape[1]]:,'connections to ERC'] = for_test[1,:]\n",
    "jnk.loc[jnk.index[:for_test.shape[1]],'region'] = ['noise/subcortex'] * for_test.shape[1]\n",
    "jnk.loc[jnk.index[for_test.shape[1]]:,'region'] = ['early tau'] * for_test.shape[1]"
   ]
  },
  {
   "cell_type": "code",
   "execution_count": 10,
   "metadata": {},
   "outputs": [
    {
     "data": {
      "text/plain": [
       "<matplotlib.axes._subplots.AxesSubplot at 0x110c243d0>"
      ]
     },
     "execution_count": 10,
     "metadata": {},
     "output_type": "execute_result"
    },
    {
     "data": {
      "image/png": "[encoded data removed]",
      "text/plain": [
       "<matplotlib.figure.Figure at 0x11081a190>"
      ]
     },
     "metadata": {},
     "output_type": "display_data"
    }
   ],
   "source": [
    "sns.barplot(x='region',y='connections to ERC',data=jnk)"
   ]
  },
  {
   "cell_type": "code",
   "execution_count": 11,
   "metadata": {},
   "outputs": [],
   "source": [
    "fadjs = np.zeros((7, 7, len(fnames)))\n",
    "for idx, graph in enumerate(graphs.values()):\n",
    "    tmp = nx.adj_matrix(graph).todense()\n",
    "    fadjs[:, :, idx] = tmp"
   ]
  },
  {
   "cell_type": "code",
   "execution_count": 12,
   "metadata": {},
   "outputs": [],
   "source": [
    "np.save('cho_connection_matrix', fadjs, allow_pickle=False)"
   ]
  },
  {
   "cell_type": "markdown",
   "metadata": {},
   "source": [
    "# DKT"
   ]
  },
  {
   "cell_type": "code",
   "execution_count": 13,
   "metadata": {},
   "outputs": [],
   "source": [
    "datadir_cho = '../data/DKT_w_hipp_labels_gk/'\n",
    "fnames = os.listdir(datadir_cho)"
   ]
  },
  {
   "cell_type": "code",
   "execution_count": 14,
   "metadata": {},
   "outputs": [],
   "source": [
    "graphs = dict()\n",
    "for idx, fname in enumerate(fnames):\n",
    "    graphs[fname] = nx.read_gpickle(os.path.join(datadir_cho,fname))"
   ]
  },
  {
   "cell_type": "code",
   "execution_count": 15,
   "metadata": {},
   "outputs": [],
   "source": [
    "adjs = np.zeros((2, 85, len(fnames)))\n",
    "for idx, graph in enumerate(graphs.values()):\n",
    "    tmp = nx.adj_matrix(graph).todense()[-2:, :]\n",
    "    adjs[:, :, idx] = tmp"
   ]
  },
  {
   "cell_type": "code",
   "execution_count": 16,
   "metadata": {},
   "outputs": [
    {
     "data": {
      "image/png": "[encoded data removed]",
      "text/plain": [
       "<matplotlib.figure.Figure at 0x110beb290>"
      ]
     },
     "metadata": {},
     "output_type": "display_data"
    }
   ],
   "source": [
    "average_cho = np.mean(adjs, axis=2)\n",
    "fig = plt.figure(figsize=(18,2))\n",
    "plt.imshow(np.log(average_cho+1))\n",
    "plt.yticks([0, 1], [84,85])\n",
    "plt.ylabel('ROI')\n",
    "plt.show()"
   ]
  },
  {
   "cell_type": "markdown",
   "metadata": {},
   "source": [
    "## LH"
   ]
  },
  {
   "cell_type": "code",
   "execution_count": 35,
   "metadata": {},
   "outputs": [
    {
     "data": {
      "text/plain": [
       "Ttest_indResult(statistic=-13.362235805697079, pvalue=2.1188834163686529e-30)"
      ]
     },
     "execution_count": 35,
     "metadata": {},
     "output_type": "execute_result"
    }
   ],
   "source": [
    "for_test = adjs[:,3,:]\n",
    "stats.ttest_ind(for_test[0,:],for_test[1,:])"
   ]
  },
  {
   "cell_type": "code",
   "execution_count": 36,
   "metadata": {},
   "outputs": [],
   "source": [
    "jnk = pandas.DataFrame(index=range(for_test.shape[1]*2),columns = ['connections to ERC','region'])\n",
    "jnk.loc[jnk.index[:for_test.shape[1]],'connections to ERC'] = for_test[0,:]\n",
    "jnk.loc[jnk.index[for_test.shape[1]]:,'connections to ERC'] = for_test[1,:]\n",
    "jnk.loc[jnk.index[:for_test.shape[1]],'region'] = ['noise/subcortex'] * for_test.shape[1]\n",
    "jnk.loc[jnk.index[for_test.shape[1]]:,'region'] = ['early tau'] * for_test.shape[1]"
   ]
  },
  {
   "cell_type": "code",
   "execution_count": 37,
   "metadata": {},
   "outputs": [
    {
     "data": {
      "text/plain": [
       "<matplotlib.axes._subplots.AxesSubplot at 0x1137bf710>"
      ]
     },
     "execution_count": 37,
     "metadata": {},
     "output_type": "execute_result"
    },
    {
     "data": {
      "image/png": "[encoded data removed]",
      "text/plain": [
       "<matplotlib.figure.Figure at 0x11361ba90>"
      ]
     },
     "metadata": {},
     "output_type": "display_data"
    }
   ],
   "source": [
    "sns.barplot(x='region',y='connections to ERC',data=jnk)"
   ]
  },
  {
   "cell_type": "markdown",
   "metadata": {},
   "source": [
    "## RH"
   ]
  },
  {
   "cell_type": "code",
   "execution_count": 38,
   "metadata": {},
   "outputs": [
    {
     "data": {
      "text/plain": [
       "Ttest_indResult(statistic=-3.0409599617935621, pvalue=0.0026366070784629016)"
      ]
     },
     "execution_count": 38,
     "metadata": {},
     "output_type": "execute_result"
    }
   ],
   "source": [
    "for_test = adjs[:,42,:]\n",
    "stats.ttest_ind(for_test[0,:],for_test[1,:])"
   ]
  },
  {
   "cell_type": "code",
   "execution_count": 39,
   "metadata": {},
   "outputs": [],
   "source": [
    "jnk = pandas.DataFrame(index=range(for_test.shape[1]*2),columns = ['connections to ERC','region'])\n",
    "jnk.loc[jnk.index[:for_test.shape[1]],'connections to ERC'] = for_test[0,:]\n",
    "jnk.loc[jnk.index[for_test.shape[1]]:,'connections to ERC'] = for_test[1,:]\n",
    "jnk.loc[jnk.index[:for_test.shape[1]],'region'] = ['noise/subcortex'] * for_test.shape[1]\n",
    "jnk.loc[jnk.index[for_test.shape[1]]:,'region'] = ['early tau'] * for_test.shape[1]"
   ]
  },
  {
   "cell_type": "code",
   "execution_count": 40,
   "metadata": {},
   "outputs": [
    {
     "data": {
      "text/plain": [
       "<matplotlib.axes._subplots.AxesSubplot at 0x113910950>"
      ]
     },
     "execution_count": 40,
     "metadata": {},
     "output_type": "execute_result"
    },
    {
     "data": {
      "image/png": "[encoded data removed]",
      "text/plain": [
       "<matplotlib.figure.Figure at 0x113873a50>"
      ]
     },
     "metadata": {},
     "output_type": "display_data"
    }
   ],
   "source": [
    "sns.barplot(x='region',y='connections to ERC',data=jnk)"
   ]
  },
  {
   "cell_type": "code",
   "execution_count": 41,
   "metadata": {},
   "outputs": [],
   "source": [
    "fadjs = np.zeros((85, 85, len(fnames)))\n",
    "for idx, graph in enumerate(graphs.values()):\n",
    "    tmp = nx.adj_matrix(graph).todense()\n",
    "    fadjs[:, :, idx] = tmp"
   ]
  },
  {
   "cell_type": "code",
   "execution_count": 42,
   "metadata": {},
   "outputs": [],
   "source": [
    "np.save('dkt_connection_matrix', fadjs, allow_pickle=False)"
   ]
  }
 ],
 "metadata": {
  "kernelspec": {
   "display_name": "Python 2",
   "language": "python",
   "name": "python2"
  },
  "language_info": {
   "codemirror_mode": {
    "name": "ipython",
    "version": 2
   },
   "file_extension": ".py",
   "mimetype": "text/x-python",
   "name": "python",
   "nbconvert_exporter": "python",
   "pygments_lexer": "ipython2",
   "version": "2.7.13"
  }
 },
 "nbformat": 4,
 "nbformat_minor": 2
}
