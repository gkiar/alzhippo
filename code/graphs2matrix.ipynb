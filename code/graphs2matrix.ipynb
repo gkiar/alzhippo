{
 "cells": [
  {
   "cell_type": "code",
   "execution_count": 1,
   "metadata": {},
   "outputs": [],
   "source": [
    "import os\n",
    "import os.path as op\n",
    "import numpy as np\n",
    "import networkx as nx\n",
    "import matplotlib.pyplot as plt\n",
    "\n",
    "%matplotlib inline"
   ]
  },
  {
   "cell_type": "code",
   "execution_count": 2,
   "metadata": {},
   "outputs": [],
   "source": [
    "files = [op.join('../data/graphs', dirs, fls)\n",
    "         for dirs in [\"BNU1\", \"BNU3\", \"HNU1\"]\n",
    "         for fls in os.listdir('../data/graphs/'+dirs)]"
   ]
  },
  {
   "cell_type": "code",
   "execution_count": 3,
   "metadata": {},
   "outputs": [],
   "source": [
    "adjs = np.zeros((6, 6, len(files)))\n",
    "nodelist = ['1', '3', '2', '5', '4', '6']\n",
    "for idx, fname in enumerate(files):\n",
    "    graph = nx.read_weighted_edgelist(fname)\n",
    "    tmp = nx.adj_matrix(graph, nodelist=nodelist).todense()\n",
    "    adjs[:, :, idx] = tmp"
   ]
  },
  {
   "cell_type": "code",
   "execution_count": 4,
   "metadata": {},
   "outputs": [
    {
     "data": {
      "image/png": "[encoded data removed]",
      "text/plain": [
       "<matplotlib.figure.Figure at 0x1093795d0>"
      ]
     },
     "metadata": {},
     "output_type": "display_data"
    }
   ],
   "source": [
    "plt.imshow(np.log(np.mean(adjs, axis=2)+1))\n",
    "labs = ['ERC-L', 'Hippo-L-1', 'Hippo-L-2',\n",
    "        'ERC-R', 'Hippo-R-1', 'Hippo-R-2']\n",
    "plt.xticks(np.arange(0, 6), labs, rotation=40)\n",
    "plt.yticks(np.arange(0, 6), labs)\n",
    "plt.title('Average connectivity of {} sessions from CoRR'.format(len(files)))\n",
    "plt.colorbar()\n",
    "plt.show()"
   ]
  },
  {
   "cell_type": "code",
   "execution_count": 5,
   "metadata": {},
   "outputs": [],
   "source": [
    "np.save('../data/connection_matrix', adjs, allow_pickle=False)"
   ]
  }
 ],
 "metadata": {
  "kernelspec": {
   "display_name": "Python 2",
   "language": "python",
   "name": "python2"
  },
  "language_info": {
   "codemirror_mode": {
    "name": "ipython",
    "version": 2
   },
   "file_extension": ".py",
   "mimetype": "text/x-python",
   "name": "python",
   "nbconvert_exporter": "python",
   "pygments_lexer": "ipython2",
   "version": "2.7.13"
  }
 },
 "nbformat": 4,
 "nbformat_minor": 2
}
